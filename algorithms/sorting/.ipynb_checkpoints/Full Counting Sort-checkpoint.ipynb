{
 "cells": [
  {
   "cell_type": "code",
   "execution_count": 32,
   "metadata": {},
   "outputs": [],
   "source": [
    "# https://www.hackerrank.com/challenges/countingsort4/problem"
   ]
  },
  {
   "cell_type": "code",
   "execution_count": 22,
   "metadata": {},
   "outputs": [],
   "source": [
    "# Practice\n",
    "\n",
    "arr = [4, 4, 5, 1, 2, 8, 10, 3, 4]"
   ]
  },
  {
   "cell_type": "code",
   "execution_count": 28,
   "metadata": {},
   "outputs": [],
   "source": [
    "def full_count_sort(arr):\n",
    "    n = len(arr)\n",
    "    largest = max(arr)\n",
    "    indexes = [0] * (largest + 1) # make an array to store the counts\n",
    "    result = [0] * (n + 1)\n",
    "    for number in arr:\n",
    "        indexes[number] += 1\n",
    "    print(\"Occurences of numbers: {}\".format(indexes))\n",
    "    for i in range(1, len(indexes)):\n",
    "        indexes[i] = indexes[i - 1] + indexes[i]\n",
    "    print(\"Occurrences after we add the indexes: {}\".format(indexes))\n",
    "    for number in arr:\n",
    "        pos = indexes[number]\n",
    "        indexes[number] -= 1\n",
    "        result[pos] = number\n",
    "    return result[1:]\n"
   ]
  },
  {
   "cell_type": "code",
   "execution_count": 29,
   "metadata": {},
   "outputs": [
    {
     "name": "stdout",
     "output_type": "stream",
     "text": [
      "Occurences of numbers: [0, 1, 1]\n",
      "Occurrences after we add the indexes: [0, 1, 2]\n"
     ]
    },
    {
     "data": {
      "text/plain": [
       "[1, 2]"
      ]
     },
     "execution_count": 29,
     "metadata": {},
     "output_type": "execute_result"
    }
   ],
   "source": [
    "full_count_sort(arr)"
   ]
  },
  {
   "cell_type": "markdown",
   "metadata": {},
   "source": [
    "The counting sort works by first noting the highest number in the sequence. It then makes an array that is big enough to hold as many elements as there are between 0 and that maximum number. \n",
    "\n",
    "It then makes an array that stores the number of times an element occurs in the list. After making a note of how many times a number occurs, it then adds each element in that index array to the previous element. This concoction somehow tells us exactly where to place the elements. \n",
    "\n",
    "The resulting indexes array is now a lookup table that tells us where to place each element in our original array. All we need to do is to lookup the number in our indexes table then place at the index which matches the value returned. \n",
    "\n",
    "This works because, to start with, the resulting array that we create **is** sorted. We need to add all the indexes together so that we can increment the position of each of the numbers. The array's index already encodes the order that the numbers should fall in. We need an offset however to describe the spacing between each number. "
   ]
  },
  {
   "cell_type": "code",
   "execution_count": 31,
   "metadata": {},
   "outputs": [
    {
     "name": "stdout",
     "output_type": "stream",
     "text": [
      "Occurences of numbers: [0, 1, 1]\n",
      "Occurrences after we add the indexes: [0, 1, 2]\n"
     ]
    },
    {
     "data": {
      "text/plain": [
       "[1, 2]"
      ]
     },
     "execution_count": 31,
     "metadata": {},
     "output_type": "execute_result"
    }
   ],
   "source": [
    "arr = [2, 1]\n",
    "full_count_sort(arr)"
   ]
  },
  {
   "cell_type": "code",
   "execution_count": null,
   "metadata": {},
   "outputs": [],
   "source": []
  }
 ],
 "metadata": {
  "kernelspec": {
   "display_name": "Python 3",
   "language": "python",
   "name": "python3"
  },
  "language_info": {
   "codemirror_mode": {
    "name": "ipython",
    "version": 3
   },
   "file_extension": ".py",
   "mimetype": "text/x-python",
   "name": "python",
   "nbconvert_exporter": "python",
   "pygments_lexer": "ipython3",
   "version": "3.6.5"
  }
 },
 "nbformat": 4,
 "nbformat_minor": 2
}
