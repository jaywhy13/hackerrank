{
 "cells": [
  {
   "cell_type": "code",
   "execution_count": 7,
   "metadata": {},
   "outputs": [],
   "source": [
    "# https://www.hackerrank.com/challenges/alternating-characters/problem\n",
    "\n",
    "def alternatingCharacters(s):\n",
    "    need_to_delete = 0\n",
    "    for i in range(1, len(s)):\n",
    "        previous_letter = s[i-1]\n",
    "        current_letter = s[i]\n",
    "        if previous_letter == current_letter:\n",
    "            need_to_delete += 1\n",
    "    return need_to_delete"
   ]
  },
  {
   "cell_type": "markdown",
   "metadata": {},
   "source": [
    "In order for the string to be valid each character must be different from the previous\n",
    "\n",
    "\"A\" is fine\n",
    "\"AA\" is not fine, since the second char is the same as the first\n",
    "\"AB\" is fine\n",
    "\"ABA\" is not fine\n",
    "\"AAB\" is not fine, we need to delete one A\n",
    "\n",
    "Is the answer the number of chars that don't differ from the previous one?\n",
    "Or the number of chars that match the previous number?\n",
    "\n",
    "AAB => 1\n",
    "AAA => 2\n",
    "BABB => "
   ]
  },
  {
   "cell_type": "code",
   "execution_count": 17,
   "metadata": {},
   "outputs": [
    {
     "data": {
      "text/plain": [
       "1"
      ]
     },
     "execution_count": 17,
     "metadata": {},
     "output_type": "execute_result"
    }
   ],
   "source": [
    "alternatingCharacters(\"ABB\")"
   ]
  },
  {
   "cell_type": "code",
   "execution_count": 6,
   "metadata": {},
   "outputs": [
    {
     "data": {
      "text/plain": [
       "[]"
      ]
     },
     "execution_count": 6,
     "metadata": {},
     "output_type": "execute_result"
    }
   ],
   "source": [
    "list(enumerate([1,2,][2:]))"
   ]
  },
  {
   "cell_type": "code",
   "execution_count": 12,
   "metadata": {},
   "outputs": [
    {
     "data": {
      "text/plain": [
       "[1, 2]"
      ]
     },
     "execution_count": 12,
     "metadata": {},
     "output_type": "execute_result"
    }
   ],
   "source": [
    "list(range(1,3))"
   ]
  },
  {
   "cell_type": "code",
   "execution_count": null,
   "metadata": {},
   "outputs": [],
   "source": []
  }
 ],
 "metadata": {
  "kernelspec": {
   "display_name": "Python 3",
   "language": "python",
   "name": "python3"
  },
  "language_info": {
   "codemirror_mode": {
    "name": "ipython",
    "version": 3
   },
   "file_extension": ".py",
   "mimetype": "text/x-python",
   "name": "python",
   "nbconvert_exporter": "python",
   "pygments_lexer": "ipython3",
   "version": "3.6.5"
  }
 },
 "nbformat": 4,
 "nbformat_minor": 2
}
