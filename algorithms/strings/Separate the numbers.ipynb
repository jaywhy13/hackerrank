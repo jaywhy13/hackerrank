{
 "cells": [
  {
   "cell_type": "code",
   "execution_count": 73,
   "metadata": {},
   "outputs": [],
   "source": [
    "# https://www.hackerrank.com/challenges/separate-the-numbers/problem\n",
    "\n",
    "def is_beautiful(s): # 1213\n",
    "    if len(s) < 2:\n",
    "        return \"NO\"\n",
    "    str_len = 1\n",
    "    \n",
    "    while str_len <= len(s) / 2:\n",
    "        matched_numbers = []\n",
    "        i = 0\n",
    "        while i < len(s):\n",
    "            this_number = s[i:i+str_len]\n",
    "            expected_number = str(int(this_number) + 1)\n",
    "            # check for zero at start\n",
    "            rest_of_str = s[i+str_len:] \n",
    "            if rest_of_str.startswith(expected_number):\n",
    "                matched_numbers.append(this_number)\n",
    "                i += str_len\n",
    "                str_len = len(expected_number)\n",
    "                if i + len(expected_number) >= len(s):\n",
    "                    matched_numbers.append(expected_number)\n",
    "                    i = len(s)\n",
    "                    break\n",
    "            else:\n",
    "                str_len += 1\n",
    "                break\n",
    "        if sum(map(len, matched_numbers)) == len(s):\n",
    "            break\n",
    "    if sum(map(len, matched_numbers)) == len(s):\n",
    "        return \"YES {}\".format(matched_numbers[0])\n",
    "    return \"NO\"\n",
    "        \n",
    "        "
   ]
  },
  {
   "cell_type": "code",
   "execution_count": 74,
   "metadata": {},
   "outputs": [
    {
     "data": {
      "text/plain": [
       "'NO'"
      ]
     },
     "execution_count": 74,
     "metadata": {},
     "output_type": "execute_result"
    }
   ],
   "source": [
    "is_beautiful(\"1\")"
   ]
  },
  {
   "cell_type": "code",
   "execution_count": 83,
   "metadata": {},
   "outputs": [
    {
     "data": {
      "text/plain": [
       "'YES 0'"
      ]
     },
     "execution_count": 83,
     "metadata": {},
     "output_type": "execute_result"
    }
   ],
   "source": [
    "is_beautiful(\"01\")"
   ]
  },
  {
   "cell_type": "code",
   "execution_count": 53,
   "metadata": {},
   "outputs": [
    {
     "data": {
      "text/plain": [
       "'10'"
      ]
     },
     "execution_count": 53,
     "metadata": {},
     "output_type": "execute_result"
    }
   ],
   "source": [
    "\"910\"[1:]"
   ]
  },
  {
   "cell_type": "code",
   "execution_count": 24,
   "metadata": {},
   "outputs": [
    {
     "data": {
      "text/plain": [
       "'2'"
      ]
     },
     "execution_count": 24,
     "metadata": {},
     "output_type": "execute_result"
    }
   ],
   "source": [
    "\"12\"[1:]"
   ]
  },
  {
   "cell_type": "code",
   "execution_count": 78,
   "metadata": {},
   "outputs": [
    {
     "data": {
      "text/plain": [
       "['1234', '91011', '99100', '101103', '010203', '13', '1']"
      ]
     },
     "execution_count": 78,
     "metadata": {},
     "output_type": "execute_result"
    }
   ],
   "source": [
    "tests = \"\"\"\n",
    "1234\n",
    "91011\n",
    "99100\n",
    "101103\n",
    "010203\n",
    "13\n",
    "1\"\"\"\n",
    "tests.split()"
   ]
  },
  {
   "cell_type": "code",
   "execution_count": 79,
   "metadata": {},
   "outputs": [
    {
     "name": "stdout",
     "output_type": "stream",
     "text": [
      "1234 => YES 1\n",
      "91011 => YES 9\n",
      "99100 => YES 99\n",
      "101103 => NO\n",
      "010203 => NO\n",
      "13 => NO\n",
      "1 => NO\n"
     ]
    }
   ],
   "source": [
    "for test in tests.split():\n",
    "    print(\"{} => {}\".format(test, is_beautiful(test)))"
   ]
  },
  {
   "cell_type": "code",
   "execution_count": null,
   "metadata": {},
   "outputs": [],
   "source": []
  }
 ],
 "metadata": {
  "kernelspec": {
   "display_name": "Python 3",
   "language": "python",
   "name": "python3"
  },
  "language_info": {
   "codemirror_mode": {
    "name": "ipython",
    "version": 3
   },
   "file_extension": ".py",
   "mimetype": "text/x-python",
   "name": "python",
   "nbconvert_exporter": "python",
   "pygments_lexer": "ipython3",
   "version": "3.6.5"
  }
 },
 "nbformat": 4,
 "nbformat_minor": 2
}
