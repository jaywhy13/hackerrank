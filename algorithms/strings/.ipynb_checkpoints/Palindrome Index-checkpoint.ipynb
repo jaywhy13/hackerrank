{
 "cells": [
  {
   "cell_type": "code",
   "execution_count": 4,
   "metadata": {},
   "outputs": [],
   "source": [
    "# https://www.hackerrank.com/challenges/palindrome-index/problem\n",
    "\n",
    "import math\n",
    "def palindromeIndex(s):\n",
    "    n = len(s)\n",
    "    if n <= 2:\n",
    "        return -1\n",
    "    for i in range(0, math.floor(n / 2)):\n",
    "        letter = s[i]\n",
    "        other_letter_index = n - i - 1\n",
    "        other_letter = s[other_letter_index]\n",
    "        if letter != other_letter:\n",
    "            if i + 1 < other_letter_index and s[i+1] == other_letter:\n",
    "                return i\n",
    "            elif other_letter_index - 1 > i and letter == s[other_letter_index - 1]:\n",
    "                return other_letter_index\n",
    "            return i\n",
    "    return -1\n",
    "            \n",
    "        \n"
   ]
  },
  {
   "cell_type": "markdown",
   "metadata": {},
   "source": [
    "So we need to determine which letter at what index we can remove to make a string a palindrome. So how do we go about doing that?\n",
    "\n",
    "Let's look at some examples.\n",
    "\n",
    "* \"aba\" - we know that this is a palindrome, if we go from left to right checking each character, we can see each of them match the character at the other end of the string.\n",
    "* \"abca\" - if we use the same logic, when we look at \"a\", we can see that it matches, but \"b\" doesn't match \"c\". If we remove \"b\" or \"c\" we would get a palindrome.\n",
    "\n",
    "One approach seems like we could start at the left of the string, and keep going until we find a mismatch. Would that be enough to answer the question? Let's explore...\n",
    "\n",
    "* \"aba\" - yes\n",
    "* \"abca\" - yes, when we get to \"b\" / \"c\" we can return either one of the indices\n",
    "* \"abbda\" - yes, this works too, a matches a, b doesn't match d, but WHICH to kick out? The one on the right\n",
    "* \"adbba\" - yes\n",
    "\n",
    "If there is only one letter that is incorrect, whenever we find a mismatch, one of the two letters MUST be removable. Is this true?\n",
    "\n",
    "* \"abc\" - yes\n",
    "* \"abad\" - yes\n",
    "* \"daba\" - yes\n",
    "* \"aabdaa\" - yes\n",
    "* \"abad\" - yes, a matches the letter before d (i.e. matches if we deleted d)\n",
    "\n",
    "Seems so? So a few things can happen:\n",
    "\n",
    "* Either candidate can be removed - there is no matching letter for either candidate\n",
    "* There is a match for only one of the candidates"
   ]
  },
  {
   "cell_type": "code",
   "execution_count": 20,
   "metadata": {},
   "outputs": [
    {
     "data": {
      "text/plain": [
       "-1"
      ]
     },
     "execution_count": 20,
     "metadata": {},
     "output_type": "execute_result"
    }
   ],
   "source": [
    "palindromeIndex(\"bc\")"
   ]
  },
  {
   "cell_type": "code",
   "execution_count": 2,
   "metadata": {},
   "outputs": [],
   "source": [
    "queries = \"\"\"\n",
    "quyjjdcgsvvsgcdjjyq\n",
    "hgygsvlfwcwnswtuhmyaljkqlqjjqlqkjlaymhutwsnwcflvsgygh\n",
    "fgnfnidynhxebxxxfmxixhsruldhsaobhlcggchboashdlurshxixmfxxxbexhnydinfngf\n",
    "bsyhvwfuesumsehmytqioswvpcbxyolapfywdxeacyuruybhbwxjmrrmjxwbhbyuruycaexdwyfpaloyxbcpwsoiqtymhesmuseufwvhysb\n",
    "fvyqxqxynewuebtcuqdwyetyqqisappmunmnldmkttkmdlnmnumppasiqyteywdquctbeuwenyxqxqyvf\n",
    "mmbiefhflbeckaecprwfgmqlydfroxrblulpasumubqhhbvlqpixvvxipqlvbhqbumusaplulbrxorfdylqmgfwrpceakceblfhfeibmm\n",
    "tpqknkmbgasitnwqrqasvolmevkasccsakvemlosaqrqwntisagbmknkqpt\n",
    "lhrxvssvxrhl\n",
    "prcoitfiptvcxrvoalqmfpnqyhrubxspplrftomfehbbhefmotfrlppsxburhyqnpfmqlaorxcvtpiftiocrp\n",
    "kjowoemiduaaxasnqghxbxkiccikxbxhgqnsaxaaudimeowojk\"\"\""
   ]
  },
  {
   "cell_type": "code",
   "execution_count": 5,
   "metadata": {},
   "outputs": [
    {
     "name": "stdout",
     "output_type": "stream",
     "text": [
      "quyjjdcgsvvsgcdjjyq 1\n",
      "hgygsvlfwcwnswtuhmyaljkqlqjjqlqkjlaymhutwsnwcflvsgygh 8\n",
      "fgnfnidynhxebxxxfmxixhsruldhsaobhlcggchboashdlurshxixmfxxxbexhnydinfngf 33\n",
      "bsyhvwfuesumsehmytqioswvpcbxyolapfywdxeacyuruybhbwxjmrrmjxwbhbyuruycaexdwyfpaloyxbcpwsoiqtymhesmuseufwvhysb 23\n",
      "fvyqxqxynewuebtcuqdwyetyqqisappmunmnldmkttkmdlnmnumppasiqyteywdquctbeuwenyxqxqyvf 25\n",
      "mmbiefhflbeckaecprwfgmqlydfroxrblulpasumubqhhbvlqpixvvxipqlvbhqbumusaplulbrxorfdylqmgfwrpceakceblfhfeibmm 44\n",
      "tpqknkmbgasitnwqrqasvolmevkasccsakvemlosaqrqwntisagbmknkqpt 20\n",
      "lhrxvssvxrhl -1\n",
      "prcoitfiptvcxrvoalqmfpnqyhrubxspplrftomfehbbhefmotfrlppsxburhyqnpfmqlaorxcvtpiftiocrp 14\n",
      "kjowoemiduaaxasnqghxbxkiccikxbxhgqnsaxaaudimeowojk -1\n"
     ]
    }
   ],
   "source": [
    "for q in queries.split():\n",
    "    print(q, palindromeIndex(q))"
   ]
  },
  {
   "cell_type": "code",
   "execution_count": null,
   "metadata": {},
   "outputs": [],
   "source": [
    "def palindromeIndex(s):\n",
    "    n = len(s)\n",
    "    if n <= 2:\n",
    "        return -1\n",
    "    i = 0\n",
    "    j = n\n",
    "    "
   ]
  },
  {
   "cell_type": "code",
   "execution_count": null,
   "metadata": {},
   "outputs": [],
   "source": [
    "1\n",
    "8\n",
    "33\n",
    "23\n",
    "25\n",
    "44\n",
    "20\n",
    "-1\n",
    "14\n",
    "-1"
   ]
  }
 ],
 "metadata": {
  "kernelspec": {
   "display_name": "Python 3",
   "language": "python",
   "name": "python3"
  },
  "language_info": {
   "codemirror_mode": {
    "name": "ipython",
    "version": 3
   },
   "file_extension": ".py",
   "mimetype": "text/x-python",
   "name": "python",
   "nbconvert_exporter": "python",
   "pygments_lexer": "ipython3",
   "version": "3.6.5"
  }
 },
 "nbformat": 4,
 "nbformat_minor": 2
}
