{
 "cells": [
  {
   "cell_type": "code",
   "execution_count": 9,
   "metadata": {},
   "outputs": [],
   "source": [
    "# https://www.hackerrank.com/challenges/the-love-letter-mystery/problem\n",
    "\n",
    "import string\n",
    "\n",
    "def theLoveLetterMystery(s):\n",
    "    n = len(s)\n",
    "    if n <= 1:\n",
    "        return 0\n",
    "    changes = 0\n",
    "    letters = string.ascii_lowercase\n",
    "    for i in range(math.floor(n/2)):\n",
    "        this_letter = s[i]\n",
    "        letter_at_other_end = s[n - (i + 1)]\n",
    "        changes += abs(letters.index(this_letter) - letters.index(letter_at_other_end))\n",
    "    return changes                \n"
   ]
  },
  {
   "cell_type": "markdown",
   "metadata": {},
   "source": [
    "So if it's just one letter, it's already a palindrome... so that would be zero\n",
    "\n",
    "Then we need to go one letter at a time, comparing the letter at the other end of the string.\n",
    "\n",
    "We need to determine how far we need to decrease whichever one to make the two equal.\n",
    "\n",
    "Keep a running total.\n",
    "\n",
    "We need to loop through from 0 to len(s) / 2.\n",
    "* For \"ab\", we need to visit only index 0\n",
    "* For \"abc\", we need to visit only index 0\n",
    "* For \"abcd\" we need to visit indices 0 and 1\n",
    "\n",
    "Let's say we have \"cba\".\n",
    "    \n",
    "* Comparing \"c\" and \"a\", there's a distance of 2. \n",
    "    \n",
    "\n",
    "\n"
   ]
  },
  {
   "cell_type": "code",
   "execution_count": 3,
   "metadata": {},
   "outputs": [
    {
     "data": {
      "text/plain": [
       "[0]"
      ]
     },
     "execution_count": 3,
     "metadata": {},
     "output_type": "execute_result"
    }
   ],
   "source": [
    "import math\n",
    "math.floor(2.4)\n",
    "list(range(1))"
   ]
  },
  {
   "cell_type": "code",
   "execution_count": 7,
   "metadata": {},
   "outputs": [
    {
     "data": {
      "text/plain": [
       "0"
      ]
     },
     "execution_count": 7,
     "metadata": {},
     "output_type": "execute_result"
    }
   ],
   "source": [
    "import string\n",
    "string.ascii_lowercase.index('a')"
   ]
  },
  {
   "cell_type": "code",
   "execution_count": null,
   "metadata": {},
   "outputs": [],
   "source": []
  }
 ],
 "metadata": {
  "kernelspec": {
   "display_name": "Python 3",
   "language": "python",
   "name": "python3"
  },
  "language_info": {
   "codemirror_mode": {
    "name": "ipython",
    "version": 3
   },
   "file_extension": ".py",
   "mimetype": "text/x-python",
   "name": "python",
   "nbconvert_exporter": "python",
   "pygments_lexer": "ipython3",
   "version": "3.6.5"
  }
 },
 "nbformat": 4,
 "nbformat_minor": 2
}
